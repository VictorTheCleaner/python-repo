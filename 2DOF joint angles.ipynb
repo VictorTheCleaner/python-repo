{
 "cells": [
  {
   "cell_type": "code",
   "execution_count": 15,
   "metadata": {},
   "outputs": [
    {
     "name": "stdout",
     "output_type": "stream",
     "text": [
      "Enter the x coordinate for the tool:\n",
      "1\n",
      "Enter the y coordinate for the tool:\n",
      "2\n",
      "Enter the x velocity for the tool:\n",
      "1\n",
      "Enter the y velocity for the tool:\n",
      "2\n",
      "Joint angle 1 =  0.7250911471790622\n",
      "Joint angle 2 =  0.7641151412300563\n",
      "Joint angle 1 velocity =  2.998773063954922\n",
      "Joint angle 2 velocity =  -5.997546127909844\n"
     ]
    }
   ],
   "source": [
    "import math\n",
    "import numpy\n",
    "\n",
    "a1 = 1\n",
    "a2 = 1\n",
    "\n",
    "print(\"Enter the x coordinate for the tool:\")\n",
    "x = input()\n",
    "print(\"Enter the y coordinate for the tool:\")\n",
    "y = input()\n",
    "print(\"Enter the x velocity for the tool:\")\n",
    "xv = input()\n",
    "print(\"Enter the y velocity for the tool:\")\n",
    "yv = input()\n",
    "\n",
    "\n",
    "\n",
    "\n",
    "D = (float(x) ** 2 + float(y) ** 2 + a1 ** 2 + a2 **2) / (2 * a1 * a2)\n",
    "\n",
    "theta2 = math.atan((math.sqrt(abs(1 - D ** 2)))/(D))\n",
    "theta1 = math.atan(float(y)/float(x)) - math.atan((a2 * math.sin(theta2))/(a1 + a2 * math.cos(theta2)))\n",
    "\n",
    "print(\"Joint angle 1 = \", theta1)\n",
    "print(\"Joint angle 2 = \", theta2)\n",
    "\n",
    "J_header = 1 / (a1 * a2 * math.sin(theta2))\n",
    "J_inv = numpy.array([[a2 * math.cos(theta1 + theta2), a2 * math.sin(theta1 + theta2)],[ -1 * a1 * math.cos(theta1) - a2 * math.cos(theta1 + theta2), -1 * a1 *math.sin(theta1) - a2 * math.sin(theta1 + theta2)]])\n",
    "\n",
    "\n",
    "\n",
    "z = numpy.array([[x], [y]], numpy.float)\n",
    "\n",
    "J_inv = J_header * J_inv\n",
    "ans = numpy.matmul(J_inv, z)\n",
    "\n",
    "my_t1 = ans[0,0]\n",
    "my_t2 = ans[1,0]\n",
    "\n",
    "print(\"Joint angle 1 velocity = \", my_t1)\n",
    "print(\"Joint angle 2 velocity = \", my_t2)\n",
    "\n"
   ]
  },
  {
   "cell_type": "code",
   "execution_count": null,
   "metadata": {},
   "outputs": [],
   "source": []
  },
  {
   "cell_type": "code",
   "execution_count": null,
   "metadata": {},
   "outputs": [],
   "source": []
  }
 ],
 "metadata": {
  "kernelspec": {
   "display_name": "Python 3",
   "language": "python",
   "name": "python3"
  },
  "language_info": {
   "codemirror_mode": {
    "name": "ipython",
    "version": 3
   },
   "file_extension": ".py",
   "mimetype": "text/x-python",
   "name": "python",
   "nbconvert_exporter": "python",
   "pygments_lexer": "ipython3",
   "version": "3.7.10"
  }
 },
 "nbformat": 4,
 "nbformat_minor": 4
}
