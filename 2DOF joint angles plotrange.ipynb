{
 "cells": [
  {
   "cell_type": "code",
   "execution_count": 26,
   "metadata": {},
   "outputs": [
    {
     "name": "stdout",
     "output_type": "stream",
     "text": [
      "Enter the x  start coordinate for the tool:\n",
      "2\n",
      "Enter the x  finish coordinate for the tool:\n",
      "0\n",
      "Enter the y start coordinate for the tool:\n",
      "0\n",
      "Enter the y finish coordinate for the tool:\n",
      "2\n",
      "Enter the x velocity for the tool:\n",
      "1\n",
      "Enter the y velocity for the tool:\n",
      "1\n"
     ]
    },
    {
     "data": {
      "text/plain": [
       "[<matplotlib.lines.Line2D at 0x12cd40c51c8>,\n",
       " <matplotlib.lines.Line2D at 0x12cd40e1908>]"
      ]
     },
     "execution_count": 26,
     "metadata": {},
     "output_type": "execute_result"
    },
    {
     "data": {
      "image/png": "[encoded data removed]",
      "text/plain": [
       "<Figure size 432x288 with 1 Axes>"
      ]
     },
     "metadata": {
      "needs_background": "light"
     },
     "output_type": "display_data"
    },
    {
     "data": {
      "image/png": "[encoded data removed]",
      "text/plain": [
       "<Figure size 432x288 with 1 Axes>"
      ]
     },
     "metadata": {
      "needs_background": "light"
     },
     "output_type": "display_data"
    }
   ],
   "source": [
    "import math\n",
    "import numpy\n",
    "import matplotlib.pyplot as plt\n",
    "\n",
    "a1 = 1\n",
    "a2 = 1\n",
    "\n",
    "print(\"Enter the x  start coordinate for the tool:\")\n",
    "xs = input()\n",
    "print(\"Enter the x  finish coordinate for the tool:\")\n",
    "xf = input()\n",
    "print(\"Enter the y start coordinate for the tool:\")\n",
    "ys = input()\n",
    "print(\"Enter the y finish coordinate for the tool:\")\n",
    "yf = input()\n",
    "print(\"Enter the x velocity for the tool:\")\n",
    "xv = input()\n",
    "print(\"Enter the y velocity for the tool:\")\n",
    "yv = input()\n",
    "\n",
    "### Going to do 10 steps\n",
    "\n",
    "mystep = 10\n",
    "stepx = (float(xf) - float(xs)) / mystep\n",
    "stepy = (float(yf) - float(ys)) / mystep\n",
    "\n",
    "### arrays to hold the data\n",
    "\n",
    "t1table = numpy.zeros(10)\n",
    "t2table = numpy.zeros(10)\n",
    "jv1table = numpy.zeros(10)\n",
    "jv2table = numpy.zeros(10)\n",
    "\n",
    "\n",
    "\n",
    "\n",
    "for i in range(mystep):\n",
    "    \n",
    "    D = (float(xs) ** 2 + float(ys) ** 2 + a1 ** 2 + a2 **2) / (2 * a1 * a2)\n",
    "    if D == 0:\n",
    "        D = 2 * math.pi\n",
    "    theta2 = math.atan((math.sqrt(abs(1 - D ** 2)))/(D))\n",
    "    theta1 = math.atan(float(ys)/float(xs)) - math.atan((a2 * math.sin(theta2))/(a1 + a2 * math.cos(theta2)))\n",
    "    J_header = 1 / (a1 * a2 * math.sin(theta2))\n",
    "    J_inv = numpy.array([[a2 * math.cos(theta1 + theta2), a2 * math.sin(theta1 + theta2)],[ -1 * a1 * math.cos(theta1) - a2 * math.cos(theta1 + theta2), -1 * a1 *math.sin(theta1) - a2 * math.sin(theta1 + theta2)]])\n",
    "    z = numpy.array([[xs], [ys]], numpy.float)\n",
    "    J_inv = J_header * J_inv\n",
    "    ans = numpy.matmul(J_inv, z)\n",
    "    \n",
    "    t1table[i] = theta1\n",
    "    t2table[i] = theta2\n",
    "    jv1table[i] = ans[0,0]\n",
    "    jv2table[i] = ans[1,0]\n",
    "    \n",
    "    \n",
    "    xs = float(xs) + stepx\n",
    "    ys = float(ys) + stepy\n",
    "\n",
    "    \n",
    "    \n",
    "  \n",
    "fig, ax = plt.subplots()  \n",
    "ax.plot(t1table,  'r--', t2table, 'bs')\n",
    "\n",
    "\n",
    "fig, ay = plt.subplots()  \n",
    "ay.plot(jv1table,  'g--', jv2table, 'ks')\n"
   ]
  },
  {
   "cell_type": "code",
   "execution_count": null,
   "metadata": {},
   "outputs": [],
   "source": []
  }
 ],
 "metadata": {
  "kernelspec": {
   "display_name": "Python 3",
   "language": "python",
   "name": "python3"
  },
  "language_info": {
   "codemirror_mode": {
    "name": "ipython",
    "version": 3
   },
   "file_extension": ".py",
   "mimetype": "text/x-python",
   "name": "python",
   "nbconvert_exporter": "python",
   "pygments_lexer": "ipython3",
   "version": "3.7.10"
  }
 },
 "nbformat": 4,
 "nbformat_minor": 4
}
